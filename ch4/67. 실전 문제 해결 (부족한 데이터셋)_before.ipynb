{
 "cells": [
  {
   "cell_type": "markdown",
   "metadata": {},
   "source": [
    "# 실전 문제 해결 (부족한 데이터셋)"
   ]
  },
  {
   "cell_type": "code",
   "execution_count": 1,
   "metadata": {},
   "outputs": [],
   "source": [
    "import tensorflow as tf\n",
    "import numpy as np\n",
    "import random"
   ]
  },
  {
   "cell_type": "markdown",
   "metadata": {},
   "source": [
    "## 하이퍼 파라미터"
   ]
  },
  {
   "cell_type": "code",
   "execution_count": 2,
   "metadata": {},
   "outputs": [],
   "source": [
    "EPOCHS = 100"
   ]
  },
  {
   "cell_type": "markdown",
   "metadata": {},
   "source": [
    "## 모델 정의"
   ]
  },
  {
   "cell_type": "code",
   "execution_count": 3,
   "metadata": {},
   "outputs": [],
   "source": [
    "class MyModel(tf.keras.Model):\n",
    "    def __init__(self):\n",
    "        super(MyModel, self).__init__()\n",
    "        self.flatten = tf.keras.layers.Flatten()\n",
    "        self.dense1 = tf.keras.layers.Dense(1024, activation='relu')\n",
    "        self.dense2 = tf.keras.layers.Dense(1, activation='sigmoid')\n",
    "\n",
    "    def call(self, x, training=False, mask=None):\n",
    "        x = self.flatten(x)\n",
    "        x = self.dense1(x)\n",
    "        return self.dense2(x)"
   ]
  },
  {
   "cell_type": "markdown",
   "metadata": {},
   "source": [
    "## 데이터셋 준비 (불균형한 데이터셋)"
   ]
  },
  {
   "cell_type": "code",
   "execution_count": 4,
   "metadata": {},
   "outputs": [],
   "source": [
    "cifar10 = tf.keras.datasets.cifar10\n",
    "\n",
    "(x_train, y_train), (x_test, y_test) = cifar10.load_data()\n",
    "x_train, x_test = x_train / 255.0, x_test / 255.0\n",
    "\n",
    "# TODO: 학습 데이터를 Imbalanced small dataset으로 변형하기\n",
    "x_train_small = list()\n",
    "y_train_small = list()\n",
    "x_test_small=list()\n",
    "y_test_small=list()\n",
    "for x,y, in zip(x_train,y_train):\n",
    "    if(y==0 and random.randint(0,100) < 10) or y==1:\n",
    "        x_train_small.append(x[:])\n",
    "        y_train_small.append(y)\n",
    "        \n",
    "for x,y, in zip(x_test,y_test):\n",
    "    if(y==0  or y==1):\n",
    "        x_test_small.append(x[:])\n",
    "        y_test_small.append(y)\n",
    "\n",
    "x_train = np.stack(x_train_small,axis=0)\n",
    "y_train = np.stack(y_train_small,axis=0)\n",
    "\n",
    "x_test = np.stack(x_test_small,axis=0)\n",
    "y_test = np.stack(y_test_small,axis=0)\n",
    "\n",
    "train_ds = tf.data.Dataset.from_tensor_slices((x_train, y_train)).shuffle(10000).batch(32).prefetch(2048)\n",
    "test_ds = tf.data.Dataset.from_tensor_slices((x_test, y_test)).batch(32).prefetch(2048)"
   ]
  },
  {
   "cell_type": "markdown",
   "metadata": {},
   "source": [
    "## Keras API 모델 학습 (불균형한 데이터셋)"
   ]
  },
  {
   "cell_type": "code",
   "execution_count": null,
   "metadata": {
    "scrolled": true
   },
   "outputs": [
    {
     "name": "stdout",
     "output_type": "stream",
     "text": [
      "Epoch 1/100\n",
      "WARNING:tensorflow:Layer my_model is casting an input tensor from dtype float64 to the layer's dtype of float32, which is new behavior in TensorFlow 2.  The layer has dtype float32 because its dtype defaults to floatx.\n",
      "\n",
      "If you intended to run this layer in float32, you can safely ignore this warning. If in doubt, this warning is likely only an issue if you are porting a TensorFlow 1.X model to TensorFlow 2.\n",
      "\n",
      "To change all layers to have dtype float64 by default, call `tf.keras.backend.set_floatx('float64')`. To change just this layer, pass dtype='float64' to the layer constructor. If you are the author of this layer, you can disable autocasting by passing autocast=False to the base Layer constructor.\n",
      "\n",
      "173/173 [==============================] - 5s 28ms/step - loss: 0.3651 - accuracy: 0.8970 - precision: 0.9202 - recall: 0.9704 - val_loss: 1.0545 - val_accuracy: 0.5340 - val_precision: 0.5177 - val_recall: 0.9930\n",
      "Epoch 2/100\n",
      "173/173 [==============================] - 4s 24ms/step - loss: 0.2821 - accuracy: 0.9097 - precision: 0.9244 - recall: 0.9804 - val_loss: 0.9807 - val_accuracy: 0.5730 - val_precision: 0.5398 - val_recall: 0.9890\n",
      "Epoch 3/100\n",
      "173/173 [==============================] - 4s 24ms/step - loss: 0.2492 - accuracy: 0.9129 - precision: 0.9261 - recall: 0.9822 - val_loss: 0.7437 - val_accuracy: 0.6595 - val_precision: 0.5968 - val_recall: 0.9830\n",
      "Epoch 4/100\n",
      "173/173 [==============================] - 4s 24ms/step - loss: 0.2399 - accuracy: 0.9180 - precision: 0.9308 - recall: 0.9824 - val_loss: 1.0810 - val_accuracy: 0.5330 - val_precision: 0.5171 - val_recall: 0.9980loss: 0.2289 - accuracy: 0.9203 - preci\n",
      "Epoch 5/100\n",
      "173/173 [==============================] - 4s 24ms/step - loss: 0.2224 - accuracy: 0.9245 - precision: 0.9352 - recall: 0.9848 - val_loss: 0.6672 - val_accuracy: 0.6785 - val_precision: 0.6114 - val_recall: 0.9800\n",
      "Epoch 6/100\n",
      "173/173 [==============================] - 4s 26ms/step - loss: 0.2117 - accuracy: 0.9261 - precision: 0.9358 - recall: 0.9860 - val_loss: 0.5475 - val_accuracy: 0.7400 - val_precision: 0.6646 - val_recall: 0.9690\n",
      "Epoch 7/100\n",
      "173/173 [==============================] - 5s 27ms/step - loss: 0.1965 - accuracy: 0.9321 - precision: 0.9417 - recall: 0.9860 - val_loss: 0.6620 - val_accuracy: 0.6885 - val_precision: 0.6188 - val_recall: 0.9820\n",
      "Epoch 8/100\n",
      "173/173 [==============================] - 4s 24ms/step - loss: 0.2021 - accuracy: 0.9307 - precision: 0.9403 - recall: 0.9860 - val_loss: 1.0769 - val_accuracy: 0.6010 - val_precision: 0.5566 - val_recall: 0.9930loss: 0.1832 - accuracy: 0.9352 - precision: 0.9464 - recall: 0.984 - ETA: 1s - loss: 0.1870 - accuracy: 0.9342 - prec\n",
      "Epoch 9/100\n",
      "173/173 [==============================] - 5s 26ms/step - loss: 0.1835 - accuracy: 0.9312 - precision: 0.9415 - recall: 0.9852 - val_loss: 0.4889 - val_accuracy: 0.7815 - val_precision: 0.7041 - val_recall: 0.9710\n",
      "Epoch 10/100\n",
      "173/173 [==============================] - 4s 24ms/step - loss: 0.1756 - accuracy: 0.9370 - precision: 0.9468 - recall: 0.9858 - val_loss: 0.5242 - val_accuracy: 0.7650 - val_precision: 0.6856 - val_recall: 0.9790\n",
      "Epoch 11/100\n",
      "173/173 [==============================] - 4s 24ms/step - loss: 0.1802 - accuracy: 0.9352 - precision: 0.9451 - recall: 0.9856 - val_loss: 0.4485 - val_accuracy: 0.7950 - val_precision: 0.7218 - val_recall: 0.9600\n",
      "Epoch 12/100\n",
      "173/173 [==============================] - 4s 24ms/step - loss: 0.1898 - accuracy: 0.9332 - precision: 0.9426 - recall: 0.9862 - val_loss: 0.3947 - val_accuracy: 0.8345 - val_precision: 0.7852 - val_recall: 0.9210\n",
      "Epoch 13/100\n",
      "173/173 [==============================] - 4s 24ms/step - loss: 0.1718 - accuracy: 0.9363 - precision: 0.9462 - recall: 0.9856 - val_loss: 0.7096 - val_accuracy: 0.7125 - val_precision: 0.6372 - val_recall: 0.9870\n",
      "Epoch 14/100\n",
      "173/173 [==============================] - 4s 24ms/step - loss: 0.1576 - accuracy: 0.9399 - precision: 0.9492 - recall: 0.9864 - val_loss: 0.5726 - val_accuracy: 0.7615 - val_precision: 0.6820 - val_recall: 0.9800\n",
      "Epoch 15/100\n",
      "173/173 [==============================] - 4s 25ms/step - loss: 0.1697 - accuracy: 0.9381 - precision: 0.9491 - recall: 0.9844 - val_loss: 0.7823 - val_accuracy: 0.6820 - val_precision: 0.6130 - val_recall: 0.9870\n",
      "Epoch 16/100\n",
      "173/173 [==============================] - 4s 24ms/step - loss: 0.1552 - accuracy: 0.9413 - precision: 0.9510 - recall: 0.9860 - val_loss: 0.5538 - val_accuracy: 0.7680 - val_precision: 0.6885 - val_recall: 0.9790\n",
      "Epoch 17/100\n",
      "173/173 [==============================] - 4s 24ms/step - loss: 0.1437 - accuracy: 0.9491 - precision: 0.9565 - recall: 0.9888 - val_loss: 0.5487 - val_accuracy: 0.7900 - val_precision: 0.7108 - val_recall: 0.9780\n",
      "Epoch 18/100\n",
      "173/173 [==============================] - 4s 24ms/step - loss: 0.1433 - accuracy: 0.9437 - precision: 0.9546 - recall: 0.9846 - val_loss: 0.4196 - val_accuracy: 0.8270 - val_precision: 0.7730 - val_recall: 0.9260: 0.1472 - accuracy: 0.9423 - precis\n",
      "Epoch 19/100\n",
      "173/173 [==============================] - 4s 24ms/step - loss: 0.1412 - accuracy: 0.9464 - precision: 0.9558 - recall: 0.9864 - val_loss: 0.6030 - val_accuracy: 0.7680 - val_precision: 0.6885 - val_recall: 0.9790\n",
      "Epoch 20/100\n",
      "173/173 [==============================] - 4s 25ms/step - loss: 0.1349 - accuracy: 0.9462 - precision: 0.9585 - recall: 0.9832 - val_loss: 0.6229 - val_accuracy: 0.7520 - val_precision: 0.6714 - val_recall: 0.9870\n",
      "Epoch 21/100\n",
      "173/173 [==============================] - 5s 26ms/step - loss: 0.1325 - accuracy: 0.9497 - precision: 0.9588 - recall: 0.9868 - val_loss: 1.0605 - val_accuracy: 0.6035 - val_precision: 0.5581 - val_recall: 0.9940\n",
      "Epoch 22/100\n",
      "173/173 [==============================] - 4s 24ms/step - loss: 0.1278 - accuracy: 0.9506 - precision: 0.9599 - recall: 0.9866 - val_loss: 0.5545 - val_accuracy: 0.7875 - val_precision: 0.7085 - val_recall: 0.9770\n",
      "Epoch 23/100\n",
      "173/173 [==============================] - 4s 24ms/step - loss: 0.1277 - accuracy: 0.9513 - precision: 0.9608 - recall: 0.9864 - val_loss: 0.4146 - val_accuracy: 0.8380 - val_precision: 0.7840 - val_recall: 0.93301167 - accuracy:\n",
      "Epoch 24/100\n",
      "173/173 [==============================] - 4s 24ms/step - loss: 0.1142 - accuracy: 0.9591 - precision: 0.9669 - recall: 0.9886 - val_loss: 0.5520 - val_accuracy: 0.8000 - val_precision: 0.7229 - val_recall: 0.9730\n",
      "Epoch 25/100\n",
      "173/173 [==============================] - 4s 24ms/step - loss: 0.1139 - accuracy: 0.9547 - precision: 0.9661 - recall: 0.9846 - val_loss: 0.4321 - val_accuracy: 0.8325 - val_precision: 0.7710 - val_recall: 0.9460\n",
      "Epoch 26/100\n",
      "173/173 [==============================] - 4s 25ms/step - loss: 0.1139 - accuracy: 0.9546 - precision: 0.9659 - recall: 0.9846 - val_loss: 0.4540 - val_accuracy: 0.8310 - val_precision: 0.7657 - val_recall: 0.9540\n",
      "Epoch 27/100\n",
      "173/173 [==============================] - 4s 24ms/step - loss: 0.1039 - accuracy: 0.9611 - precision: 0.9688 - recall: 0.9888 - val_loss: 0.5610 - val_accuracy: 0.7905 - val_precision: 0.7166 - val_recall: 0.9610\n",
      "Epoch 28/100\n",
      "173/173 [==============================] - 4s 25ms/step - loss: 0.1091 - accuracy: 0.9585 - precision: 0.9693 - recall: 0.9854 - val_loss: 1.2746 - val_accuracy: 0.6460 - val_precision: 0.5859 - val_recall: 0.9960\n",
      "Epoch 29/100\n",
      "173/173 [==============================] - 5s 26ms/step - loss: 0.1044 - accuracy: 0.9600 - precision: 0.9692 - recall: 0.9872 - val_loss: 0.6061 - val_accuracy: 0.7895 - val_precision: 0.7130 - val_recall: 0.9690\n",
      "Epoch 30/100\n",
      "173/173 [==============================] - 4s 25ms/step - loss: 0.0965 - accuracy: 0.9618 - precision: 0.9707 - recall: 0.9876 - val_loss: 1.0009 - val_accuracy: 0.6940 - val_precision: 0.6217 - val_recall: 0.9910\n",
      "Epoch 31/100\n",
      "173/173 [==============================] - 4s 24ms/step - loss: 0.0877 - accuracy: 0.9680 - precision: 0.9752 - recall: 0.9898 - val_loss: 0.6084 - val_accuracy: 0.7965 - val_precision: 0.7191 - val_recall: 0.9730\n",
      "Epoch 32/100\n",
      "173/173 [==============================] - 5s 29ms/step - loss: 0.0904 - accuracy: 0.9669 - precision: 0.9750 - recall: 0.9888 - val_loss: 0.5483 - val_accuracy: 0.8145 - val_precision: 0.7440 - val_recall: 0.9590\n",
      "Epoch 33/100\n"
     ]
    },
    {
     "name": "stdout",
     "output_type": "stream",
     "text": [
      "173/173 [==============================] - 5s 27ms/step - loss: 0.1034 - accuracy: 0.9591 - precision: 0.9704 - recall: 0.9848 - val_loss: 0.8007 - val_accuracy: 0.7615 - val_precision: 0.6807 - val_recall: 0.9850curacy: 0.9586 - precision: 0.9704 -\n",
      "Epoch 34/100\n",
      "173/173 [==============================] - 5s 29ms/step - loss: 0.0932 - accuracy: 0.9632 - precision: 0.9741 - recall: 0.9856 - val_loss: 0.6133 - val_accuracy: 0.7965 - val_precision: 0.7211 - val_recall: 0.9670\n",
      "Epoch 35/100\n",
      "173/173 [==============================] - 5s 26ms/step - loss: 0.0871 - accuracy: 0.9663 - precision: 0.9761 - recall: 0.9870 - val_loss: 0.6060 - val_accuracy: 0.8015 - val_precision: 0.7289 - val_recall: 0.9600\n",
      "Epoch 36/100\n",
      "173/173 [==============================] - 4s 24ms/step - loss: 0.0857 - accuracy: 0.9680 - precision: 0.9752 - recall: 0.9898 - val_loss: 0.8233 - val_accuracy: 0.7630 - val_precision: 0.6839 - val_recall: 0.9780\n",
      "Epoch 37/100\n",
      "173/173 [==============================] - 4s 25ms/step - loss: 0.0857 - accuracy: 0.9687 - precision: 0.9771 - recall: 0.9886 - val_loss: 1.6541 - val_accuracy: 0.6005 - val_precision: 0.5561 - val_recall: 0.9960 0.9768 - recall: 0\n",
      "Epoch 38/100\n",
      "173/173 [==============================] - 4s 22ms/step - loss: 0.0835 - accuracy: 0.9696 - precision: 0.9767 - recall: 0.9900 - val_loss: 0.6197 - val_accuracy: 0.8040 - val_precision: 0.7286 - val_recall: 0.9690\n",
      "Epoch 39/100\n",
      "173/173 [==============================] - 4s 22ms/step - loss: 0.0701 - accuracy: 0.9737 - precision: 0.9806 - recall: 0.9906 - val_loss: 0.7169 - val_accuracy: 0.7775 - val_precision: 0.6992 - val_recall: 0.9740ss: 0.0650 - accuracy: 0.9758 - precision: 0.9822\n",
      "Epoch 40/100\n",
      "173/173 [==============================] - 4s 22ms/step - loss: 0.0782 - accuracy: 0.9698 - precision: 0.9779 - recall: 0.9890 - val_loss: 0.5062 - val_accuracy: 0.8420 - val_precision: 0.7898 - val_recall: 0.9320\n",
      "Epoch 41/100\n",
      "173/173 [==============================] - 4s 24ms/step - loss: 0.0671 - accuracy: 0.9765 - precision: 0.9826 - recall: 0.9916 - val_loss: 0.9507 - val_accuracy: 0.7305 - val_precision: 0.6515 - val_recall: 0.9910\n",
      "Epoch 42/100\n",
      "173/173 [==============================] - 4s 22ms/step - loss: 0.0607 - accuracy: 0.9768 - precision: 0.9828 - recall: 0.9918 - val_loss: 0.7699 - val_accuracy: 0.7960 - val_precision: 0.7183 - val_recall: 0.9740\n",
      "Epoch 43/100\n",
      "170/173 [============================>.] - ETA: 0s - loss: 0.0721 - accuracy: 0.9726 - precision: 0.9818 - recall: 0.9880"
     ]
    }
   ],
   "source": [
    "model = MyModel()\n",
    "model.compile(optimizer='adam',\n",
    "              loss='binary_crossentropy',\n",
    "              metrics=['accuracy',tf.keras.metrics.Precision(name='precision'),\n",
    "                      tf.keras.metrics.Recall(name='recall')])\n",
    "model.fit(train_ds, validation_data=test_ds, epochs=EPOCHS)"
   ]
  },
  {
   "cell_type": "markdown",
   "metadata": {},
   "source": [
    "## 데이터셋 준비 (BorderlineSMOTE)"
   ]
  },
  {
   "cell_type": "code",
   "execution_count": null,
   "metadata": {},
   "outputs": [],
   "source": [
    "# TODO: BorderlineSMOTE 적용하기\n",
    "\n",
    "train_ds = tf.data.Dataset.from_tensor_slices((x_train, y_train)).shuffle(10000).batch(32).prefetch(2048)\n",
    "test_ds = tf.data.Dataset.from_tensor_slices((x_test, y_test)).batch(32).prefetch(2048)"
   ]
  },
  {
   "cell_type": "markdown",
   "metadata": {},
   "source": [
    "## Keras API 모델 학습 (BorderlineSMOTE)"
   ]
  },
  {
   "cell_type": "code",
   "execution_count": null,
   "metadata": {},
   "outputs": [],
   "source": [
    "model = MyModel()\n",
    "model.compile(optimizer='adam',\n",
    "              loss='binary_crossentropy',\n",
    "              metrics=['accuracy',tf.keras.metrics.Precision(name='precision'),\n",
    "                      tf.keras.metrics.Recall(name='recall')])\n",
    "model.fit(train_ds, validation_data=test_ds, epochs=EPOCHS)"
   ]
  },
  {
   "cell_type": "code",
   "execution_count": null,
   "metadata": {},
   "outputs": [],
   "source": []
  }
 ],
 "metadata": {
  "kernelspec": {
   "display_name": "Python 3",
   "language": "python",
   "name": "python3"
  },
  "language_info": {
   "codemirror_mode": {
    "name": "ipython",
    "version": 3
   },
   "file_extension": ".py",
   "mimetype": "text/x-python",
   "name": "python",
   "nbconvert_exporter": "python",
   "pygments_lexer": "ipython3",
   "version": "3.8.3"
  }
 },
 "nbformat": 4,
 "nbformat_minor": 2
}
