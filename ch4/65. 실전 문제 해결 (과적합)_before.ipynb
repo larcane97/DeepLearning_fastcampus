{
 "cells": [
  {
   "cell_type": "markdown",
   "metadata": {},
   "source": [
    "# 실전 문제 해결 (과적합)"
   ]
  },
  {
   "cell_type": "code",
   "execution_count": 1,
   "metadata": {},
   "outputs": [],
   "source": [
    "import tensorflow as tf\n",
    "import numpy as np"
   ]
  },
  {
   "cell_type": "markdown",
   "metadata": {},
   "source": [
    "## 하이퍼 파라미터"
   ]
  },
  {
   "cell_type": "code",
   "execution_count": 2,
   "metadata": {},
   "outputs": [],
   "source": [
    "EPOCHS = 100"
   ]
  },
  {
   "cell_type": "markdown",
   "metadata": {},
   "source": [
    "## 모델 정의"
   ]
  },
  {
   "cell_type": "code",
   "execution_count": 3,
   "metadata": {},
   "outputs": [],
   "source": [
    "# Define network architecture\n",
    "class MyModel(tf.keras.Model):\n",
    "    def __init__(self):\n",
    "        super(MyModel, self).__init__()\n",
    "        self.conv1_1 = tf.keras.layers.Conv2D(16, (3, 3), padding='same', activation='relu')\n",
    "        self.conv1_2 = tf.keras.layers.Conv2D(16, (3, 3), padding='same', activation='relu')\n",
    "        self.pool1 = tf.keras.layers.MaxPool2D((2, 2))\n",
    "\n",
    "        self.conv2_1 = tf.keras.layers.Conv2D(32, (3, 3), padding='same', activation='relu')\n",
    "        self.conv2_2 = tf.keras.layers.Conv2D(32, (3, 3), padding='same', activation='relu')\n",
    "        self.pool2 = tf.keras.layers.MaxPool2D((2, 2))\n",
    "\n",
    "        self.conv3_1 = tf.keras.layers.Conv2D(64, (3, 3), padding='same', activation='relu')\n",
    "        self.conv3_2 = tf.keras.layers.Conv2D(64, (3, 3), padding='same', activation='relu')\n",
    "\n",
    "        self.flatten = tf.keras.layers.Flatten()\n",
    "        self.dense1 = tf.keras.layers.Dense(1024, activation='relu')\n",
    "        self.dense2 = tf.keras.layers.Dense(10, activation='softmax')\n",
    "\n",
    "    def call(self, x, training=False, mask=None):\n",
    "        x = self.conv1_1(x)\n",
    "        x = self.conv1_2(x)\n",
    "        x = self.pool1(x)\n",
    "\n",
    "        x = self.conv2_1(x)\n",
    "        x = self.conv2_2(x)\n",
    "        x = self.pool2(x)\n",
    "\n",
    "        x = self.conv3_1(x)\n",
    "        x = self.conv3_2(x)\n",
    "\n",
    "        x = self.flatten(x)\n",
    "        x = self.dense1(x)\n",
    "        return self.dense2(x)"
   ]
  },
  {
   "cell_type": "markdown",
   "metadata": {},
   "source": [
    "## 데이터셋 준비\n"
   ]
  },
  {
   "cell_type": "code",
   "execution_count": 4,
   "metadata": {},
   "outputs": [],
   "source": [
    "cifar10 = tf.keras.datasets.cifar10\n",
    "\n",
    "(x_train, y_train), (x_test, y_test) = cifar10.load_data()\n",
    "x_train, x_test = x_train / 255.0, x_test / 255.0\n",
    "\n",
    "x_train = x_train.astype(np.float32)\n",
    "x_test = x_test.astype(np.float32)\n",
    "\n",
    "train_ds = tf.data.Dataset.from_tensor_slices((x_train, y_train)).shuffle(10000).batch(32).prefetch(1024)\n",
    "test_ds = tf.data.Dataset.from_tensor_slices((x_test, y_test)).batch(32).prefetch(1024)"
   ]
  },
  {
   "cell_type": "markdown",
   "metadata": {},
   "source": [
    "## Keras API 모델 학습"
   ]
  },
  {
   "cell_type": "code",
   "execution_count": 5,
   "metadata": {
    "scrolled": true
   },
   "outputs": [
    {
     "name": "stdout",
     "output_type": "stream",
     "text": [
      "Epoch 1/100\n"
     ]
    },
    {
     "name": "stderr",
     "output_type": "stream",
     "text": [
      "WARNING: Logging before flag parsing goes to stderr.\n",
      "W0920 22:45:52.613052 140548090763072 deprecation.py:323] From /home/jeyong/.conda/envs/tf2/lib/python3.7/site-packages/tensorflow/python/ops/math_grad.py:1250: add_dispatch_support.<locals>.wrapper (from tensorflow.python.ops.array_ops) is deprecated and will be removed in a future version.\n",
      "Instructions for updating:\n",
      "Use tf.where in 2.0, which has the same broadcast rule as np.where\n"
     ]
    },
    {
     "name": "stdout",
     "output_type": "stream",
     "text": [
      "1563/1563 [==============================] - 13s 8ms/step - loss: 1.4684 - accuracy: 0.3604 - val_loss: 1.2398 - val_accuracy: 0.5508\n",
      "Epoch 2/100\n",
      "1563/1563 [==============================] - 14s 9ms/step - loss: 1.0128 - accuracy: 0.6160 - val_loss: 1.0204 - val_accuracy: 0.6491\n",
      "Epoch 3/100\n",
      "1563/1563 [==============================] - 10s 7ms/step - loss: 0.7941 - accuracy: 0.7004 - val_loss: 0.9473 - val_accuracy: 0.6858\n",
      "Epoch 4/100\n",
      "1563/1563 [==============================] - 13s 8ms/step - loss: 0.5982 - accuracy: 0.7733 - val_loss: 1.0965 - val_accuracy: 0.6842\n",
      "Epoch 5/100\n",
      "1563/1563 [==============================] - 14s 9ms/step - loss: 0.4405 - accuracy: 0.8321 - val_loss: 1.3576 - val_accuracy: 0.6617\n",
      "Epoch 6/100\n",
      "1563/1563 [==============================] - 11s 7ms/step - loss: 0.3335 - accuracy: 0.8736 - val_loss: 1.4518 - val_accuracy: 0.6581\n",
      "Epoch 7/100\n",
      "1563/1563 [==============================] - 14s 9ms/step - loss: 0.2564 - accuracy: 0.9084 - val_loss: 1.4892 - val_accuracy: 0.6751\n",
      "Epoch 8/100\n",
      "1563/1563 [==============================] - 13s 8ms/step - loss: 0.2010 - accuracy: 0.9301 - val_loss: 1.6994 - val_accuracy: 0.6653\n",
      "Epoch 9/100\n",
      "1563/1563 [==============================] - 14s 9ms/step - loss: 0.1722 - accuracy: 0.9409 - val_loss: 1.8258 - val_accuracy: 0.6643\n",
      "Epoch 10/100\n",
      "1563/1563 [==============================] - 13s 9ms/step - loss: 0.1495 - accuracy: 0.9494 - val_loss: 1.9033 - val_accuracy: 0.6725\n",
      "Epoch 11/100\n",
      "1563/1563 [==============================] - 14s 9ms/step - loss: 0.1452 - accuracy: 0.9536 - val_loss: 1.9086 - val_accuracy: 0.6727\n",
      "Epoch 12/100\n",
      "1563/1563 [==============================] - 12s 7ms/step - loss: 0.1285 - accuracy: 0.9576 - val_loss: 2.0435 - val_accuracy: 0.6699\n",
      "Epoch 13/100\n",
      "1563/1563 [==============================] - 14s 9ms/step - loss: 0.1192 - accuracy: 0.9631 - val_loss: 2.0917 - val_accuracy: 0.6582\n",
      "Epoch 14/100\n",
      "1563/1563 [==============================] - 11s 7ms/step - loss: 0.1172 - accuracy: 0.9632 - val_loss: 2.0630 - val_accuracy: 0.6744\n",
      "Epoch 15/100\n",
      "1563/1563 [==============================] - 12s 7ms/step - loss: 0.1059 - accuracy: 0.9644 - val_loss: 2.0548 - val_accuracy: 0.6756\n",
      "Epoch 16/100\n",
      "1563/1563 [==============================] - 14s 9ms/step - loss: 0.1083 - accuracy: 0.9671 - val_loss: 2.3046 - val_accuracy: 0.6670\n",
      "Epoch 17/100\n",
      "1563/1563 [==============================] - 10s 7ms/step - loss: 0.1085 - accuracy: 0.9659 - val_loss: 2.1056 - val_accuracy: 0.6721\n",
      "Epoch 18/100\n",
      "1563/1563 [==============================] - 11s 7ms/step - loss: 0.1004 - accuracy: 0.9689 - val_loss: 2.1457 - val_accuracy: 0.6800\n",
      "Epoch 19/100\n",
      "1563/1563 [==============================] - 13s 8ms/step - loss: 0.0967 - accuracy: 0.9726 - val_loss: 2.2844 - val_accuracy: 0.6721\n",
      "Epoch 20/100\n",
      "1563/1563 [==============================] - 11s 7ms/step - loss: 0.0898 - accuracy: 0.9695 - val_loss: 2.1794 - val_accuracy: 0.6842\n",
      "Epoch 21/100\n",
      "1563/1563 [==============================] - 13s 8ms/step - loss: 0.0873 - accuracy: 0.9748 - val_loss: 2.2134 - val_accuracy: 0.6739\n",
      "Epoch 22/100\n",
      "1563/1563 [==============================] - 14s 9ms/step - loss: 0.0925 - accuracy: 0.9716 - val_loss: 2.3040 - val_accuracy: 0.6775\n",
      "Epoch 23/100\n",
      "1563/1563 [==============================] - 12s 8ms/step - loss: 0.0859 - accuracy: 0.9724 - val_loss: 2.4542 - val_accuracy: 0.6742\n",
      "Epoch 24/100\n",
      "1563/1563 [==============================] - 12s 8ms/step - loss: 0.0906 - accuracy: 0.9730 - val_loss: 2.5388 - val_accuracy: 0.6778\n",
      "Epoch 25/100\n",
      "1563/1563 [==============================] - 13s 8ms/step - loss: 0.0947 - accuracy: 0.9720 - val_loss: 2.5010 - val_accuracy: 0.6696\n",
      "Epoch 26/100\n",
      "1563/1563 [==============================] - 14s 9ms/step - loss: 0.0832 - accuracy: 0.9760 - val_loss: 2.6071 - val_accuracy: 0.6617\n",
      "Epoch 27/100\n",
      "1563/1563 [==============================] - 12s 8ms/step - loss: 0.0845 - accuracy: 0.9764 - val_loss: 2.6682 - val_accuracy: 0.6692\n",
      "Epoch 28/100\n",
      "1563/1563 [==============================] - 13s 8ms/step - loss: 0.0823 - accuracy: 0.9754 - val_loss: 2.6276 - val_accuracy: 0.6762\n",
      "Epoch 29/100\n",
      "1563/1563 [==============================] - 13s 8ms/step - loss: 0.0775 - accuracy: 0.9798 - val_loss: 2.9307 - val_accuracy: 0.6598\n",
      "Epoch 30/100\n",
      "1563/1563 [==============================] - 10s 6ms/step - loss: 0.1007 - accuracy: 0.9710 - val_loss: 2.6973 - val_accuracy: 0.6619\n",
      "Epoch 31/100\n",
      "1563/1563 [==============================] - 12s 8ms/step - loss: 0.0734 - accuracy: 0.9790 - val_loss: 2.9739 - val_accuracy: 0.6635\n",
      "Epoch 32/100\n",
      "1563/1563 [==============================] - 13s 8ms/step - loss: 0.0884 - accuracy: 0.9779 - val_loss: 2.7001 - val_accuracy: 0.6691\n",
      "Epoch 33/100\n",
      "1563/1563 [==============================] - 11s 7ms/step - loss: 0.0727 - accuracy: 0.9783 - val_loss: 2.6029 - val_accuracy: 0.6633\n",
      "Epoch 34/100\n",
      "1563/1563 [==============================] - 11s 7ms/step - loss: 0.0829 - accuracy: 0.9796 - val_loss: 2.6650 - val_accuracy: 0.6674\n",
      "Epoch 35/100\n",
      "1563/1563 [==============================] - 14s 9ms/step - loss: 0.0795 - accuracy: 0.9790 - val_loss: 2.9902 - val_accuracy: 0.6685\n",
      "Epoch 36/100\n",
      "1563/1563 [==============================] - 15s 9ms/step - loss: 0.0924 - accuracy: 0.9757 - val_loss: 2.7709 - val_accuracy: 0.6711\n",
      "Epoch 37/100\n",
      "1563/1563 [==============================] - 13s 8ms/step - loss: 0.0775 - accuracy: 0.9813 - val_loss: 2.8832 - val_accuracy: 0.6591\n",
      "Epoch 38/100\n",
      "1563/1563 [==============================] - 11s 7ms/step - loss: 0.0788 - accuracy: 0.9790 - val_loss: 2.6708 - val_accuracy: 0.6733\n",
      "Epoch 39/100\n",
      "1563/1563 [==============================] - 12s 8ms/step - loss: 0.0783 - accuracy: 0.9812 - val_loss: 3.0088 - val_accuracy: 0.6626\n",
      "Epoch 40/100\n",
      "1563/1563 [==============================] - 11s 7ms/step - loss: 0.0962 - accuracy: 0.9765 - val_loss: 2.8748 - val_accuracy: 0.6735\n",
      "Epoch 41/100\n",
      "1563/1563 [==============================] - 12s 8ms/step - loss: 0.0716 - accuracy: 0.9812 - val_loss: 2.8307 - val_accuracy: 0.6717\n",
      "Epoch 42/100\n",
      "1563/1563 [==============================] - 14s 9ms/step - loss: 0.0913 - accuracy: 0.9780 - val_loss: 3.0366 - val_accuracy: 0.6618\n",
      "Epoch 43/100\n",
      "1563/1563 [==============================] - 12s 7ms/step - loss: 0.0728 - accuracy: 0.9827 - val_loss: 2.9329 - val_accuracy: 0.6690\n",
      "Epoch 44/100\n",
      "1563/1563 [==============================] - 13s 9ms/step - loss: 0.0855 - accuracy: 0.9798 - val_loss: 3.2729 - val_accuracy: 0.6587\n",
      "Epoch 45/100\n",
      "1563/1563 [==============================] - 10s 6ms/step - loss: 0.0806 - accuracy: 0.9810 - val_loss: 3.1090 - val_accuracy: 0.6639\n",
      "Epoch 46/100\n",
      "1563/1563 [==============================] - 12s 8ms/step - loss: 0.0733 - accuracy: 0.9812 - val_loss: 3.1641 - val_accuracy: 0.6667\n",
      "Epoch 47/100\n",
      "1563/1563 [==============================] - 14s 9ms/step - loss: 0.0827 - accuracy: 0.9798 - val_loss: 2.9909 - val_accuracy: 0.6702\n",
      "Epoch 48/100\n",
      "1563/1563 [==============================] - 11s 7ms/step - loss: 0.0812 - accuracy: 0.9805 - val_loss: 2.9994 - val_accuracy: 0.6620\n",
      "Epoch 49/100\n",
      "1563/1563 [==============================] - 12s 8ms/step - loss: 0.0831 - accuracy: 0.9813 - val_loss: 2.9868 - val_accuracy: 0.6716\n",
      "Epoch 50/100\n",
      "1563/1563 [==============================] - 14s 9ms/step - loss: 0.0714 - accuracy: 0.9821 - val_loss: 3.0599 - val_accuracy: 0.6653\n",
      "Epoch 51/100\n",
      "1563/1563 [==============================] - 12s 8ms/step - loss: 0.0788 - accuracy: 0.9809 - val_loss: 3.2930 - val_accuracy: 0.6622\n",
      "Epoch 52/100\n",
      "1563/1563 [==============================] - 12s 7ms/step - loss: 0.0799 - accuracy: 0.9811 - val_loss: 3.1859 - val_accuracy: 0.6649\n",
      "Epoch 53/100\n",
      "1563/1563 [==============================] - 11s 7ms/step - loss: 0.0867 - accuracy: 0.9804 - val_loss: 3.1498 - val_accuracy: 0.6687\n",
      "Epoch 54/100\n",
      "1563/1563 [==============================] - 14s 9ms/step - loss: 0.0838 - accuracy: 0.9830 - val_loss: 3.4042 - val_accuracy: 0.6588\n",
      "Epoch 55/100\n",
      "1563/1563 [==============================] - 11s 7ms/step - loss: 0.0877 - accuracy: 0.9812 - val_loss: 3.2719 - val_accuracy: 0.6723\n",
      "Epoch 56/100\n",
      "1563/1563 [==============================] - 13s 8ms/step - loss: 0.0778 - accuracy: 0.9841 - val_loss: 3.4002 - val_accuracy: 0.6637\n"
     ]
    },
    {
     "name": "stdout",
     "output_type": "stream",
     "text": [
      "Epoch 57/100\n",
      "1563/1563 [==============================] - 11s 7ms/step - loss: 0.0847 - accuracy: 0.9802 - val_loss: 3.5036 - val_accuracy: 0.6672\n",
      "Epoch 58/100\n",
      "1563/1563 [==============================] - 11s 7ms/step - loss: 0.0904 - accuracy: 0.9808 - val_loss: 3.4133 - val_accuracy: 0.6751\n",
      "Epoch 59/100\n",
      "1563/1563 [==============================] - 14s 9ms/step - loss: 0.0790 - accuracy: 0.9838 - val_loss: 3.4325 - val_accuracy: 0.6698\n",
      "Epoch 60/100\n",
      "1563/1563 [==============================] - 14s 9ms/step - loss: 0.0867 - accuracy: 0.9826 - val_loss: 3.5975 - val_accuracy: 0.6675\n",
      "Epoch 61/100\n",
      "1563/1563 [==============================] - 13s 8ms/step - loss: 0.0905 - accuracy: 0.9823 - val_loss: 3.6524 - val_accuracy: 0.6569\n",
      "Epoch 62/100\n",
      "1563/1563 [==============================] - 12s 8ms/step - loss: 0.0790 - accuracy: 0.9834 - val_loss: 3.6142 - val_accuracy: 0.6562\n",
      "Epoch 63/100\n",
      "1563/1563 [==============================] - 11s 7ms/step - loss: 0.0928 - accuracy: 0.9811 - val_loss: 3.5740 - val_accuracy: 0.6742\n",
      "Epoch 64/100\n",
      "1563/1563 [==============================] - 14s 9ms/step - loss: 0.0963 - accuracy: 0.9827 - val_loss: 3.8094 - val_accuracy: 0.6547\n",
      "Epoch 65/100\n",
      "1563/1563 [==============================] - 13s 8ms/step - loss: 0.0890 - accuracy: 0.9815 - val_loss: 3.7943 - val_accuracy: 0.6677\n",
      "Epoch 66/100\n",
      "1563/1563 [==============================] - 12s 8ms/step - loss: 0.0919 - accuracy: 0.9817 - val_loss: 3.6068 - val_accuracy: 0.6682\n",
      "Epoch 67/100\n",
      "1563/1563 [==============================] - 13s 8ms/step - loss: 0.1053 - accuracy: 0.9824 - val_loss: 3.7563 - val_accuracy: 0.6533\n",
      "Epoch 68/100\n",
      "1563/1563 [==============================] - 13s 8ms/step - loss: 0.0912 - accuracy: 0.9821 - val_loss: 3.7615 - val_accuracy: 0.6662\n",
      "Epoch 69/100\n",
      "1563/1563 [==============================] - 11s 7ms/step - loss: 0.0997 - accuracy: 0.9817 - val_loss: 3.7076 - val_accuracy: 0.6565\n",
      "Epoch 70/100\n",
      "1563/1563 [==============================] - 14s 9ms/step - loss: 0.0942 - accuracy: 0.9826 - val_loss: 3.8071 - val_accuracy: 0.6600\n",
      "Epoch 71/100\n",
      "1563/1563 [==============================] - 12s 7ms/step - loss: 0.1063 - accuracy: 0.9807 - val_loss: 4.1141 - val_accuracy: 0.6570\n",
      "Epoch 72/100\n",
      "1563/1563 [==============================] - 11s 7ms/step - loss: 0.1208 - accuracy: 0.9822 - val_loss: 3.8880 - val_accuracy: 0.6574\n",
      "Epoch 73/100\n",
      "1563/1563 [==============================] - 12s 8ms/step - loss: 0.1272 - accuracy: 0.9817 - val_loss: 4.0176 - val_accuracy: 0.6619\n",
      "Epoch 74/100\n",
      "1563/1563 [==============================] - 12s 8ms/step - loss: 0.0938 - accuracy: 0.9851 - val_loss: 3.7220 - val_accuracy: 0.6599\n",
      "Epoch 75/100\n",
      "1563/1563 [==============================] - 14s 9ms/step - loss: 0.0983 - accuracy: 0.9826 - val_loss: 4.1214 - val_accuracy: 0.6521\n",
      "Epoch 76/100\n",
      "1563/1563 [==============================] - 13s 8ms/step - loss: 0.1134 - accuracy: 0.9821 - val_loss: 4.0612 - val_accuracy: 0.6585\n",
      "Epoch 77/100\n",
      "1563/1563 [==============================] - 16s 10ms/step - loss: 0.1211 - accuracy: 0.9803 - val_loss: 4.1169 - val_accuracy: 0.6607\n",
      "Epoch 78/100\n",
      "1563/1563 [==============================] - 12s 7ms/step - loss: 0.1095 - accuracy: 0.9814 - val_loss: 4.2236 - val_accuracy: 0.6571\n",
      "Epoch 79/100\n",
      "1563/1563 [==============================] - 12s 8ms/step - loss: 0.1138 - accuracy: 0.9817 - val_loss: 4.1732 - val_accuracy: 0.6672\n",
      "Epoch 80/100\n",
      "1563/1563 [==============================] - 12s 7ms/step - loss: 0.1382 - accuracy: 0.9818 - val_loss: 4.3408 - val_accuracy: 0.6516\n",
      "Epoch 81/100\n",
      "1563/1563 [==============================] - 10s 6ms/step - loss: 0.1305 - accuracy: 0.9834 - val_loss: 4.3354 - val_accuracy: 0.6626\n",
      "Epoch 82/100\n",
      "1563/1563 [==============================] - 10s 7ms/step - loss: 0.1482 - accuracy: 0.9811 - val_loss: 4.1802 - val_accuracy: 0.6663\n",
      "Epoch 83/100\n",
      "1563/1563 [==============================] - 10s 6ms/step - loss: 0.1391 - accuracy: 0.9811 - val_loss: 4.3454 - val_accuracy: 0.6670\n",
      "Epoch 84/100\n",
      "1563/1563 [==============================] - 12s 8ms/step - loss: 0.1396 - accuracy: 0.9814 - val_loss: 4.3975 - val_accuracy: 0.6572\n",
      "Epoch 85/100\n",
      "1563/1563 [==============================] - 13s 9ms/step - loss: 0.1502 - accuracy: 0.9821 - val_loss: 4.4719 - val_accuracy: 0.6629\n",
      "Epoch 86/100\n",
      "1563/1563 [==============================] - 12s 8ms/step - loss: 0.1497 - accuracy: 0.9808 - val_loss: 4.6987 - val_accuracy: 0.6549\n",
      "Epoch 87/100\n",
      "1563/1563 [==============================] - 13s 8ms/step - loss: 0.1633 - accuracy: 0.9813 - val_loss: 4.5939 - val_accuracy: 0.6588\n",
      "Epoch 88/100\n",
      "1563/1563 [==============================] - 14s 9ms/step - loss: 0.1761 - accuracy: 0.9815 - val_loss: 4.6443 - val_accuracy: 0.6572\n",
      "Epoch 89/100\n",
      "1563/1563 [==============================] - 14s 9ms/step - loss: 0.1744 - accuracy: 0.9795 - val_loss: 4.5996 - val_accuracy: 0.6701\n",
      "Epoch 90/100\n",
      "1563/1563 [==============================] - 12s 8ms/step - loss: 0.2044 - accuracy: 0.9795 - val_loss: 4.6753 - val_accuracy: 0.6614\n",
      "Epoch 91/100\n",
      "1563/1563 [==============================] - 10s 6ms/step - loss: 0.2100 - accuracy: 0.9791 - val_loss: 4.8968 - val_accuracy: 0.6581\n",
      "Epoch 92/100\n",
      "1563/1563 [==============================] - 13s 8ms/step - loss: 0.2560 - accuracy: 0.9793 - val_loss: 5.2516 - val_accuracy: 0.6348\n",
      "Epoch 93/100\n",
      "1563/1563 [==============================] - 13s 9ms/step - loss: 0.2859 - accuracy: 0.9754 - val_loss: 5.1960 - val_accuracy: 0.6476\n",
      "Epoch 94/100\n",
      "1563/1563 [==============================] - 12s 8ms/step - loss: 0.3575 - accuracy: 0.9682 - val_loss: 5.0356 - val_accuracy: 0.6644\n",
      "Epoch 95/100\n",
      "1563/1563 [==============================] - 11s 7ms/step - loss: 0.3430 - accuracy: 0.9749 - val_loss: 5.0836 - val_accuracy: 0.6632\n",
      "Epoch 96/100\n",
      "1563/1563 [==============================] - 12s 8ms/step - loss: 0.4574 - accuracy: 0.9656 - val_loss: 5.3533 - val_accuracy: 0.6514\n",
      "Epoch 97/100\n",
      "1563/1563 [==============================] - 13s 9ms/step - loss: 0.4850 - accuracy: 0.9642 - val_loss: 5.2186 - val_accuracy: 0.6601\n",
      "Epoch 98/100\n",
      "1563/1563 [==============================] - 13s 8ms/step - loss: 0.4716 - accuracy: 0.9688 - val_loss: 5.1331 - val_accuracy: 0.6666\n",
      "Epoch 99/100\n",
      "1563/1563 [==============================] - 11s 7ms/step - loss: 0.5964 - accuracy: 0.9554 - val_loss: 5.4151 - val_accuracy: 0.6514\n",
      "Epoch 100/100\n",
      "1563/1563 [==============================] - 12s 7ms/step - loss: 0.6365 - accuracy: 0.9570 - val_loss: 5.4301 - val_accuracy: 0.6527\n"
     ]
    },
    {
     "data": {
      "text/plain": [
       "<tensorflow.python.keras.callbacks.History at 0x7fd363bf95c0>"
      ]
     },
     "execution_count": 5,
     "metadata": {},
     "output_type": "execute_result"
    }
   ],
   "source": [
    "model = MyModel()\n",
    "model.compile(optimizer='adam',\n",
    "              loss='sparse_categorical_crossentropy',\n",
    "              metrics=['accuracy'])\n",
    "model.fit(train_ds, validation_data=test_ds, epochs=EPOCHS)"
   ]
  }
 ],
 "metadata": {
  "kernelspec": {
   "display_name": "Python 3",
   "language": "python",
   "name": "python3"
  },
  "language_info": {
   "codemirror_mode": {
    "name": "ipython",
    "version": 3
   },
   "file_extension": ".py",
   "mimetype": "text/x-python",
   "name": "python",
   "nbconvert_exporter": "python",
   "pygments_lexer": "ipython3",
   "version": "3.7.3"
  }
 },
 "nbformat": 4,
 "nbformat_minor": 2
}
