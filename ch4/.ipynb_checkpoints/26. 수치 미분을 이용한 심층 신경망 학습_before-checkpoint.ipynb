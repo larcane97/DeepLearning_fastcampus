{
 "cells": [
  {
   "cell_type": "markdown",
   "metadata": {},
   "source": [
    "## 수치 미분을 이용한 심층 신경망 학습"
   ]
  },
  {
   "cell_type": "code",
   "execution_count": 2,
   "metadata": {},
   "outputs": [],
   "source": [
    "import time\n",
    "import numpy as np"
   ]
  },
  {
   "cell_type": "markdown",
   "metadata": {},
   "source": [
    "## 유틸리티 함수"
   ]
  },
  {
   "cell_type": "code",
   "execution_count": 7,
   "metadata": {},
   "outputs": [],
   "source": [
    "epsilon = 0.0001\n",
    "\n",
    "def _t(x):\n",
    "    return np.transpose(x)\n",
    "\n",
    "def _m(A, B):\n",
    "    return np.matmul(A, B)\n",
    "\n",
    "def sigmoid(x):\n",
    "    return 1 / (1 + np.exp(-x))\n",
    "\n",
    "def mean_squared_error(h, y):\n",
    "    return 1 / 2 * np.mean(np.square(h - y))"
   ]
  },
  {
   "cell_type": "markdown",
   "metadata": {},
   "source": [
    "## 뉴런 구현"
   ]
  },
  {
   "cell_type": "code",
   "execution_count": 8,
   "metadata": {},
   "outputs": [],
   "source": [
    "class Neuron:\n",
    "    def __init__(self, W, b, a):\n",
    "        # Model Parameter\n",
    "        self.W=W\n",
    "        self.b=b\n",
    "        self.a=a\n",
    "        \n",
    "        # Gradients\n",
    "        self.dW = np.zeros_like(self.W)\n",
    "        self.db = np.zeros_like(self.b)\n",
    "        \n",
    "\n",
    "    def __call__(self, x):\n",
    "        return self.a(_m(_t(self.W),x)) ## a((W^T)x +b)"
   ]
  },
  {
   "cell_type": "markdown",
   "metadata": {},
   "source": [
    "## 심층신경망 구현"
   ]
  },
  {
   "cell_type": "code",
   "execution_count": 18,
   "metadata": {},
   "outputs": [],
   "source": [
    "class DNN:\n",
    "    def __init__(self, hidden_depth, num_neuron, num_input, num_output, activation=sigmoid):\n",
    "        def init_var(i, o):\n",
    "            return np.random.normal(0.0, 0.01, (i, o)), np.zeros((o,))\n",
    "\n",
    "        self.sequence = list()\n",
    "        # First hidden layer\n",
    "        W,b = init_var(num_input,num_neuron)\n",
    "        self.sequence.append(Neuron(W,b,activation))\n",
    "        \n",
    "        # Hidden layers\n",
    "        for _ in range(hidden_depth-1):\n",
    "            W,b= init_var(num_neuron,num_neuron)\n",
    "            self.sequence.append(Neuron(W,b,activation))\n",
    "\n",
    "        # Output layer\n",
    "        W,b=init_var(num_neuron,num_output)\n",
    "        self.sequence.append(Neuron(W,b,activation))\n",
    "\n",
    "    def __call__(self, x):\n",
    "        for layer in self.sequence:\n",
    "            x = layer(x)\n",
    "        return x\n",
    "\n",
    "    def calc_gradient(self, x, y, loss_func):\n",
    "        def get_new_sequence(layer_index,new_neuron):\n",
    "            new_sequence = list()\n",
    "            for i,layer in enumerate(self.sequence):\n",
    "                if i == layer_index:\n",
    "                    new_sequence.append(new_neuron)\n",
    "                else:\n",
    "                    new_sequence.append(layer)\n",
    "                    \n",
    "            return new_sequence\n",
    "        \n",
    "        def eval_sequence(x,sequence):\n",
    "            for layer in sequence:\n",
    "                x = layer(x)\n",
    "                \n",
    "            return x\n",
    "        \n",
    "        loss = loss_func(self(x),y)\n",
    "        \n",
    "        for layer_id , layer in enumerate(self.sequence): # iterate layer\n",
    "            for w_i,w in enumerate(layer.W): # iterate W (row)\n",
    "                for w_j,ww in enumerate(w):  # iternate W (col)\n",
    "                    w= np.copy(layer.W)\n",
    "                    w[w_i][w_j] = ww + epsilon\n",
    "                    \n",
    "                    new_neuron = Neuron(w,layer.b,layer.a)\n",
    "                    new_seq = get_new_sequence(layer_id,new_neuron)\n",
    "                    h = eval_sequence(x,new_seq)\n",
    "                    \n",
    "                    numerical_grad = (loss_func(h,y) - loss)/ epsilon # (f(x+eps) - f(x)) / epsilon\n",
    "                    layer.dW[w_i][w_j]= numerical_grad\n",
    "                    \n",
    "                for b_i,bb in enumerate(layer.b):\n",
    "                    b = np.copy(layer.b)\n",
    "                    b[b_i] = bb+epsilon\n",
    "                    \n",
    "                    new_neuron = Neuron(layer.W,b,layer.a)\n",
    "                    new_seq = get_new_sequence(layer_id,new_neuron)\n",
    "                    h = eval_sequence(x,new_seq)\n",
    "                    \n",
    "                    numerical_grad = (loss_func(h,y) - loss)/epsilon\n",
    "                    layer.db[b_i]=numerical_grad\n",
    "                    \n",
    "        return loss\n",
    "                    "
   ]
  },
  {
   "cell_type": "markdown",
   "metadata": {},
   "source": [
    "## 경사하강 학습법"
   ]
  },
  {
   "cell_type": "code",
   "execution_count": 19,
   "metadata": {},
   "outputs": [],
   "source": [
    "def gradient_descent(network, x, y, loss_obj, alpha=0.01):\n",
    "    loss = network.calc_gradient(x, y, loss_obj)\n",
    "    for layer in network.sequence:\n",
    "        layer.W += -alpha * layer.dW\n",
    "        layer.b += -alpha * layer.db\n",
    "    return loss"
   ]
  },
  {
   "cell_type": "markdown",
   "metadata": {},
   "source": [
    "## 동작 테스트"
   ]
  },
  {
   "cell_type": "code",
   "execution_count": 20,
   "metadata": {},
   "outputs": [
    {
     "name": "stdout",
     "output_type": "stream",
     "text": [
      "Epoch 0: Test loss 0.20468995435125528\n",
      "Epoch 1: Test loss 0.2036655700807989\n",
      "Epoch 2: Test loss 0.20264660570769594\n",
      "Epoch 3: Test loss 0.201633105948601\n",
      "Epoch 4: Test loss 0.20062511348806225\n",
      "Epoch 5: Test loss 0.19962266899053502\n",
      "Epoch 6: Test loss 0.19862581111383693\n",
      "Epoch 7: Test loss 0.19763457652404331\n",
      "Epoch 8: Test loss 0.19664899991171766\n",
      "Epoch 9: Test loss 0.19566911400947715\n",
      "Epoch 10: Test loss 0.19469494961073056\n",
      "Epoch 11: Test loss 0.193726535589706\n",
      "Epoch 12: Test loss 0.19276389892252616\n",
      "Epoch 13: Test loss 0.19180706470939615\n",
      "Epoch 14: Test loss 0.19085605619783486\n",
      "Epoch 15: Test loss 0.18991089480682383\n",
      "Epoch 16: Test loss 0.18897160015187967\n",
      "Epoch 17: Test loss 0.18803819007102882\n",
      "Epoch 18: Test loss 0.18711068065150444\n",
      "Epoch 19: Test loss 0.18618908625723485\n",
      "Epoch 20: Test loss 0.1852734195570083\n",
      "Epoch 21: Test loss 0.18436369155328067\n",
      "Epoch 22: Test loss 0.18345991161156028\n",
      "Epoch 23: Test loss 0.1825620874903106\n",
      "Epoch 24: Test loss 0.1816702253713651\n",
      "Epoch 25: Test loss 0.1807843298907571\n",
      "Epoch 26: Test loss 0.1799044041698922\n",
      "Epoch 27: Test loss 0.1790304498471624\n",
      "Epoch 28: Test loss 0.17816246710971959\n",
      "Epoch 29: Test loss 0.17730045472558723\n",
      "Epoch 30: Test loss 0.17644441007591796\n",
      "Epoch 31: Test loss 0.1755943291874632\n",
      "Epoch 32: Test loss 0.17475020676508263\n",
      "Epoch 33: Test loss 0.17391203622439172\n",
      "Epoch 34: Test loss 0.17307980972444062\n",
      "Epoch 35: Test loss 0.17225351820035176\n",
      "Epoch 36: Test loss 0.17143315139598692\n",
      "Epoch 37: Test loss 0.17061869789647563\n",
      "Epoch 38: Test loss 0.16981014516071816\n",
      "Epoch 39: Test loss 0.16900747955368925\n",
      "Epoch 40: Test loss 0.16821068637860476\n",
      "Epoch 41: Test loss 0.16741974990891345\n",
      "Epoch 42: Test loss 0.16663465342007117\n",
      "Epoch 43: Test loss 0.16585537922101695\n",
      "Epoch 44: Test loss 0.16508190868547098\n",
      "Epoch 45: Test loss 0.16431422228287293\n",
      "Epoch 46: Test loss 0.16355229960902093\n",
      "Epoch 47: Test loss 0.16279611941642325\n",
      "Epoch 48: Test loss 0.16204565964423856\n",
      "Epoch 49: Test loss 0.1613008974478882\n",
      "Epoch 50: Test loss 0.16056180922827218\n",
      "Epoch 51: Test loss 0.15982837066058792\n",
      "Epoch 52: Test loss 0.15910055672273785\n",
      "Epoch 53: Test loss 0.15837834172331544\n",
      "Epoch 54: Test loss 0.1576616993291165\n",
      "Epoch 55: Test loss 0.156950602592276\n",
      "Epoch 56: Test loss 0.1562450239768748\n",
      "Epoch 57: Test loss 0.15554493538512282\n",
      "Epoch 58: Test loss 0.15485030818306086\n",
      "Epoch 59: Test loss 0.15416111322577375\n",
      "Epoch 60: Test loss 0.15347732088211785\n",
      "Epoch 61: Test loss 0.1527989010589797\n",
      "Epoch 62: Test loss 0.15212582322501475\n",
      "Epoch 63: Test loss 0.15145805643390503\n",
      "Epoch 64: Test loss 0.15079556934710991\n",
      "Epoch 65: Test loss 0.15013833025611362\n",
      "Epoch 66: Test loss 0.14948630710418598\n",
      "Epoch 67: Test loss 0.1488394675076256\n",
      "Epoch 68: Test loss 0.14819777877650855\n",
      "Epoch 69: Test loss 0.1475612079349313\n",
      "Epoch 70: Test loss 0.14692972174077062\n",
      "Epoch 71: Test loss 0.1463032867049211\n",
      "Epoch 72: Test loss 0.1456818691100515\n",
      "Epoch 73: Test loss 0.1450654350288904\n",
      "Epoch 74: Test loss 0.14445395034197311\n",
      "Epoch 75: Test loss 0.1438473807549768\n",
      "Epoch 76: Test loss 0.1432456918155038\n",
      "Epoch 77: Test loss 0.1426488489294381\n",
      "Epoch 78: Test loss 0.14205681737681597\n",
      "Epoch 79: Test loss 0.14146956232723754\n",
      "Epoch 80: Test loss 0.1408870488548079\n",
      "Epoch 81: Test loss 0.1403092419526532\n",
      "Epoch 82: Test loss 0.13973610654696383\n",
      "Epoch 83: Test loss 0.1391676075105999\n",
      "Epoch 84: Test loss 0.13860370967628619\n",
      "Epoch 85: Test loss 0.13804437784935764\n",
      "Epoch 86: Test loss 0.13748957682010352\n",
      "Epoch 87: Test loss 0.13693927137566672\n",
      "Epoch 88: Test loss 0.1363934263115883\n",
      "Epoch 89: Test loss 0.13585200644291814\n",
      "Epoch 90: Test loss 0.1353149766149407\n",
      "Epoch 91: Test loss 0.13478230171352368\n",
      "Epoch 92: Test loss 0.13425394667509205\n",
      "Epoch 93: Test loss 0.1337298764962263\n",
      "Epoch 94: Test loss 0.1332100562429164\n",
      "Epoch 95: Test loss 0.13269445105944103\n",
      "Epoch 96: Test loss 0.1321830261769249\n",
      "Epoch 97: Test loss 0.13167574692154047\n",
      "Epoch 98: Test loss 0.13117257872238852\n",
      "Epoch 99: Test loss 0.13067348711906657\n",
      "173.4126009941101 seconds elapsed.\n"
     ]
    }
   ],
   "source": [
    "x = np.random.normal(0.0, 1.0, (10,))\n",
    "y = np.random.normal(0.0, 1.0, (2,))\n",
    "\n",
    "dnn = DNN(hidden_depth=5, num_neuron=32, num_input=10, num_output=2, activation=sigmoid)\n",
    "\n",
    "t = time.time()\n",
    "for epoch in range(100):\n",
    "    loss = gradient_descent(dnn, x, y, mean_squared_error, 0.01)\n",
    "    print('Epoch {}: Test loss {}'.format(epoch, loss))\n",
    "print('{} seconds elapsed.'.format(time.time() - t))"
   ]
  },
  {
   "cell_type": "code",
   "execution_count": null,
   "metadata": {},
   "outputs": [],
   "source": []
  }
 ],
 "metadata": {
  "kernelspec": {
   "display_name": "Python 3",
   "language": "python",
   "name": "python3"
  },
  "language_info": {
   "codemirror_mode": {
    "name": "ipython",
    "version": 3
   },
   "file_extension": ".py",
   "mimetype": "text/x-python",
   "name": "python",
   "nbconvert_exporter": "python",
   "pygments_lexer": "ipython3",
   "version": "3.8.3"
  }
 },
 "nbformat": 4,
 "nbformat_minor": 2
}
