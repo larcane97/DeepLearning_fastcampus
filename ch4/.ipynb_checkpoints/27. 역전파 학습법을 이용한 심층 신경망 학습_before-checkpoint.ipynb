{
 "cells": [
  {
   "cell_type": "markdown",
   "metadata": {},
   "source": [
    "## 수치 미분을 이용한 심층 신경망 학습"
   ]
  },
  {
   "cell_type": "code",
   "execution_count": 6,
   "metadata": {},
   "outputs": [],
   "source": [
    "import time\n",
    "import numpy as np"
   ]
  },
  {
   "cell_type": "markdown",
   "metadata": {},
   "source": [
    "## 유틸리티 함수"
   ]
  },
  {
   "cell_type": "code",
   "execution_count": 7,
   "metadata": {},
   "outputs": [],
   "source": [
    "def _t(x):\n",
    "    return np.transpose(x)\n",
    "\n",
    "def _m(A, B):\n",
    "    return np.matmul(A, B)"
   ]
  },
  {
   "cell_type": "markdown",
   "metadata": {},
   "source": [
    "## Sigmoid 구현"
   ]
  },
  {
   "cell_type": "code",
   "execution_count": 8,
   "metadata": {},
   "outputs": [],
   "source": [
    "class Sigmoid:\n",
    "    def __init__(self):\n",
    "        self.last_o=1\n",
    "\n",
    "    def __call__(self, x):\n",
    "        self.last_o = 1/(1.0 + np.exp(-x))\n",
    "        return self.last_o\n",
    "\n",
    "    def grad(self): # sigmoid(x) * ( 1- sigmoid(x))\n",
    "        return self.last_o * (1- self.last_o)"
   ]
  },
  {
   "cell_type": "markdown",
   "metadata": {},
   "source": [
    "## Mean Squared Error 구현"
   ]
  },
  {
   "cell_type": "code",
   "execution_count": 9,
   "metadata": {},
   "outputs": [],
   "source": [
    "class MeanSquaredError:\n",
    "    def __init__(self):\n",
    "        # gradient\n",
    "        self.dh = 1\n",
    "        self.last_diff=1\n",
    "        \n",
    "\n",
    "    def __call__(self, h, y): # (1/2) * mean((h-y)^2)\n",
    "        self.last_diff = h-y\n",
    "        return (1/2)* np.mean(np.square(self.last_diff))\n",
    "        \n",
    "\n",
    "    def grad(self): # h-y\n",
    "        return self.last_diff"
   ]
  },
  {
   "cell_type": "markdown",
   "metadata": {},
   "source": [
    "## 뉴런 구현"
   ]
  },
  {
   "cell_type": "code",
   "execution_count": 14,
   "metadata": {},
   "outputs": [],
   "source": [
    "class Neuron:\n",
    "    def __init__(self, W, b, a_obj):\n",
    "        # Model Parameter\n",
    "        self.W=W\n",
    "        self.b=b\n",
    "        self.a=a_obj()\n",
    "        \n",
    "        # gradient\n",
    "        self.dW = np.zeros_like(self.W)\n",
    "        self.db = np.zeros_like(self.b)\n",
    "        self.dh = np.zeros_like(_t(self.W))\n",
    "        \n",
    "        self.last_x = np.zeros(self.W.shape[0])\n",
    "        self.last_h = np.zeros(self.W.shape[1])\n",
    "\n",
    "    def __call__(self, x):\n",
    "        self.last_x=x\n",
    "        self.last_h= _m(_t(self.W),x) + self.b\n",
    "        return self.a(self.last_h)\n",
    "\n",
    "    def grad(self): # dy/dh = W\n",
    "        return self.W * self.a.grad()\n",
    "        \n",
    "\n",
    "    def grad_W(self, dh):\n",
    "        grad = np.ones_like(self.W)\n",
    "        grad_a = self.a.grad()\n",
    "        for j in range(grad.shape[1]): #  y = (W^T)x + b\n",
    "            grad[:,j] = dh[j]* grad_a[j] * self.last_x\n",
    "        return grad\n",
    "    \n",
    "    def grad_b(self, dh):\n",
    "        return dh * self.a.grad() * 1"
   ]
  },
  {
   "cell_type": "markdown",
   "metadata": {},
   "source": [
    "## 심층신경망 구현"
   ]
  },
  {
   "cell_type": "code",
   "execution_count": 21,
   "metadata": {},
   "outputs": [],
   "source": [
    "class DNN:\n",
    "    def __init__(self, hidden_depth, num_neuron, input, output, activation=Sigmoid):\n",
    "        def init_var(i, o):\n",
    "            return np.random.normal(0.0, 0.01, (i, o)), np.zeros((o,))\n",
    "\n",
    "        self.sequence = list()\n",
    "        # First hidden layer\n",
    "        W, b = init_var(input, num_neuron)\n",
    "        self.sequence.append(Neuron(W, b, activation))\n",
    "\n",
    "        # Hidden Layers\n",
    "        for index in range(hidden_depth):\n",
    "            W, b = init_var(num_neuron, num_neuron)\n",
    "            self.sequence.append(Neuron(W, b, activation))\n",
    "\n",
    "        # Output Layer\n",
    "        W, b = init_var(num_neuron, output)\n",
    "        self.sequence.append(Neuron(W, b, activation))\n",
    "\n",
    "    def __call__(self, x):\n",
    "        for layer in self.sequence:\n",
    "            x = layer(x)\n",
    "        return x\n",
    "\n",
    "    def calc_gradient(self, loss_obj):\n",
    "        loss_obj.dh = loss_obj.grad()\n",
    "        self.sequence.append(loss_obj)\n",
    "        # back propagation loop\n",
    "        for i in range(len(self.sequence) -1,0,-1):\n",
    "            l1 = self.sequence[i]\n",
    "            l0 = self.sequence[i-1]\n",
    "            \n",
    "            l0.dh = _m(l0.grad(),l1.dh)\n",
    "            l0.dW =  l0.grad_W(l1.dh)\n",
    "            l0.db =  l0.grad_b(l1.dh)\n",
    "        self.sequence.remove(loss_obj)"
   ]
  },
  {
   "cell_type": "markdown",
   "metadata": {},
   "source": [
    "## 경사하강 학습법"
   ]
  },
  {
   "cell_type": "code",
   "execution_count": 22,
   "metadata": {},
   "outputs": [],
   "source": [
    "def gradient_descent(network, x, y, loss_obj, alpha=0.01):\n",
    "    loss = loss_obj(network(x), y)  # Forward inference\n",
    "    network.calc_gradient(loss_obj)  # Back-propagation\n",
    "    for layer in network.sequence:\n",
    "        layer.W += -alpha * layer.dW\n",
    "        layer.b += -alpha * layer.db\n",
    "    return loss"
   ]
  },
  {
   "cell_type": "markdown",
   "metadata": {},
   "source": [
    "## 동작 테스트"
   ]
  },
  {
   "cell_type": "code",
   "execution_count": 23,
   "metadata": {},
   "outputs": [
    {
     "name": "stdout",
     "output_type": "stream",
     "text": [
      "Epoch 0: Test loss 0.0854233966280106\n",
      "Epoch 1: Test loss 0.08445962053085596\n",
      "Epoch 2: Test loss 0.08350716024046823\n",
      "Epoch 3: Test loss 0.08256600153380171\n",
      "Epoch 4: Test loss 0.0816361238418266\n",
      "Epoch 5: Test loss 0.08071750048339095\n",
      "Epoch 6: Test loss 0.07981009890135315\n",
      "Epoch 7: Test loss 0.07891388090019534\n",
      "Epoch 8: Test loss 0.07802880288436782\n",
      "Epoch 9: Test loss 0.07715481609665567\n",
      "Epoch 10: Test loss 0.07629186685589927\n",
      "Epoch 11: Test loss 0.07543989679344375\n",
      "Epoch 12: Test loss 0.07459884308773428\n",
      "Epoch 13: Test loss 0.07376863869651648\n",
      "Epoch 14: Test loss 0.07294921258614423\n",
      "Epoch 15: Test loss 0.07214048995753776\n",
      "Epoch 16: Test loss 0.07134239246837719\n",
      "Epoch 17: Test loss 0.07055483845115541\n",
      "Epoch 18: Test loss 0.06977774312675392\n",
      "Epoch 19: Test loss 0.06901101881324379\n",
      "Epoch 20: Test loss 0.06825457512964753\n",
      "Epoch 21: Test loss 0.06750831919443637\n",
      "Epoch 22: Test loss 0.06677215581856745\n",
      "Epoch 23: Test loss 0.066045987692899\n",
      "Epoch 24: Test loss 0.06532971556985098\n",
      "Epoch 25: Test loss 0.06462323843920759\n",
      "Epoch 26: Test loss 0.06392645369798373\n",
      "Epoch 27: Test loss 0.06323925731430347\n",
      "Epoch 28: Test loss 0.06256154398526123\n",
      "Epoch 29: Test loss 0.06189320728875807\n",
      "Epoch 30: Test loss 0.06123413982932532\n",
      "Epoch 31: Test loss 0.06058423337796643\n",
      "Epoch 32: Test loss 0.059943379006064015\n",
      "Epoch 33: Test loss 0.05931146721341474\n",
      "Epoch 34: Test loss 0.05868838805046813\n",
      "Epoch 35: Test loss 0.058074031234858145\n",
      "Epoch 36: Test loss 0.057468286262326494\n",
      "Epoch 37: Test loss 0.056871042512147287\n",
      "Epoch 38: Test loss 0.05628218934717053\n",
      "Epoch 39: Test loss 0.05570161620860939\n",
      "Epoch 40: Test loss 0.05512921270570259\n",
      "Epoch 41: Test loss 0.05456486870038833\n",
      "Epoch 42: Test loss 0.05400847438713029\n",
      "Epoch 43: Test loss 0.053459920368040585\n",
      "Epoch 44: Test loss 0.05291909772344566\n",
      "Epoch 45: Test loss 0.05238589807804418\n",
      "Epoch 46: Test loss 0.05186021366280714\n",
      "Epoch 47: Test loss 0.051341937372769465\n",
      "Epoch 48: Test loss 0.050830962820864634\n",
      "Epoch 49: Test loss 0.050327184387951335\n",
      "Epoch 50: Test loss 0.0498304972691811\n",
      "Epoch 51: Test loss 0.049340797516853906\n",
      "Epoch 52: Test loss 0.048857982079907755\n",
      "Epoch 53: Test loss 0.04838194884018464\n",
      "Epoch 54: Test loss 0.047912596645614466\n",
      "Epoch 55: Test loss 0.04744982534045429\n",
      "Epoch 56: Test loss 0.0469935357927183\n",
      "Epoch 57: Test loss 0.046543629918930435\n",
      "Epoch 58: Test loss 0.04610001070632816\n",
      "Epoch 59: Test loss 0.045662582232642676\n",
      "Epoch 60: Test loss 0.045231249683577446\n",
      "Epoch 61: Test loss 0.04480591936810242\n",
      "Epoch 62: Test loss 0.044386498731679144\n",
      "Epoch 63: Test loss 0.043972896367527096\n",
      "Epoch 64: Test loss 0.04356502202603779\n",
      "Epoch 65: Test loss 0.04316278662244051\n",
      "Epoch 66: Test loss 0.042766102242818634\n",
      "Epoch 67: Test loss 0.04237488214857246\n",
      "Epoch 68: Test loss 0.041989040779420686\n",
      "Epoch 69: Test loss 0.041608493755028585\n",
      "Epoch 70: Test loss 0.041233157875348495\n",
      "Epoch 71: Test loss 0.04086295111975276\n",
      "Epoch 72: Test loss 0.04049779264503858\n",
      "Epoch 73: Test loss 0.04013760278237767\n",
      "Epoch 74: Test loss 0.03978230303328282\n",
      "Epoch 75: Test loss 0.039431816064659536\n",
      "Epoch 76: Test loss 0.03908606570300681\n",
      "Epoch 77: Test loss 0.038744976927829425\n",
      "Epoch 78: Test loss 0.03840847586432046\n",
      "Epoch 79: Test loss 0.038076489775370245\n",
      "Epoch 80: Test loss 0.0377489470529542\n",
      "Epoch 81: Test loss 0.037425777208951315\n",
      "Epoch 82: Test loss 0.03710691086544009\n",
      "Epoch 83: Test loss 0.03679227974451819\n",
      "Epoch 84: Test loss 0.03648181665768836\n",
      "Epoch 85: Test loss 0.03617545549485186\n",
      "Epoch 86: Test loss 0.03587313121294753\n",
      "Epoch 87: Test loss 0.035574779824273275\n",
      "Epoch 88: Test loss 0.03528033838452388\n",
      "Epoch 89: Test loss 0.03498974498057839\n",
      "Epoch 90: Test loss 0.034702938718066616\n",
      "Epoch 91: Test loss 0.03441985970874411\n",
      "Epoch 92: Test loss 0.03414044905770301\n",
      "Epoch 93: Test loss 0.03386464885044309\n",
      "Epoch 94: Test loss 0.033592402139827886\n",
      "Epoch 95: Test loss 0.03332365293294793\n",
      "Epoch 96: Test loss 0.03305834617791171\n",
      "Epoch 97: Test loss 0.0327964277505845\n",
      "Epoch 98: Test loss 0.03253784444129307\n",
      "Epoch 99: Test loss 0.03228254394151312\n",
      "0.27952027320861816 seconds elapsed.\n"
     ]
    }
   ],
   "source": [
    "x = np.random.normal(0.0, 1.0, (10,))\n",
    "y = np.random.normal(0.0, 1.0, (2,))\n",
    "\n",
    "t = time.time()\n",
    "dnn = DNN(hidden_depth=5, num_neuron=32, input=10, output=2, activation=Sigmoid)\n",
    "loss_obj = MeanSquaredError()\n",
    "for epoch in range(100):\n",
    "    loss = gradient_descent(dnn, x, y, loss_obj, alpha=0.01)\n",
    "    print('Epoch {}: Test loss {}'.format(epoch, loss))\n",
    "print('{} seconds elapsed.'.format(time.time() - t))"
   ]
  },
  {
   "cell_type": "code",
   "execution_count": null,
   "metadata": {},
   "outputs": [],
   "source": []
  },
  {
   "cell_type": "code",
   "execution_count": null,
   "metadata": {},
   "outputs": [],
   "source": []
  }
 ],
 "metadata": {
  "kernelspec": {
   "display_name": "Python 3",
   "language": "python",
   "name": "python3"
  },
  "language_info": {
   "codemirror_mode": {
    "name": "ipython",
    "version": 3
   },
   "file_extension": ".py",
   "mimetype": "text/x-python",
   "name": "python",
   "nbconvert_exporter": "python",
   "pygments_lexer": "ipython3",
   "version": "3.8.3"
  }
 },
 "nbformat": 4,
 "nbformat_minor": 2
}
