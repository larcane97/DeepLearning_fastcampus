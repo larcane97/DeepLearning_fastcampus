{
  "nbformat": 4,
  "nbformat_minor": 0,
  "metadata": {
    "kernelspec": {
      "display_name": "Python 3",
      "language": "python",
      "name": "python3"
    },
    "language_info": {
      "codemirror_mode": {
        "name": "ipython",
        "version": 3
      },
      "file_extension": ".py",
      "mimetype": "text/x-python",
      "name": "python",
      "nbconvert_exporter": "python",
      "pygments_lexer": "ipython3",
      "version": "3.7.6"
    },
    "colab": {
      "name": "see_dataset.ipynb",
      "provenance": [],
      "collapsed_sections": []
    }
  },
  "cells": [
    {
      "cell_type": "code",
      "metadata": {
        "id": "KCjJ-3GLPzk7",
        "colab_type": "code",
        "colab": {}
      },
      "source": [
        "import os"
      ],
      "execution_count": 0,
      "outputs": []
    },
    {
      "cell_type": "code",
      "metadata": {
        "id": "_BLlv8J0Pzk_",
        "colab_type": "code",
        "colab": {}
      },
      "source": [
        "cur_dir = os.getcwd()\n",
        "data_dir = os.path.join(cur_dir, 'oxford_pet')\n",
        "image_dir = os.path.join(data_dir, 'images')\n",
        "bbox_dir = os.path.join(data_dir, 'annotations', 'xmls')\n",
        "seg_dir = os.path.join(data_dir, 'annotations', 'trimaps')"
      ],
      "execution_count": 0,
      "outputs": []
    },
    {
      "cell_type": "code",
      "metadata": {
        "id": "JTGvhQ7FPzlC",
        "colab_type": "code",
        "colab": {}
      },
      "source": [
        "image_files = [fname for fname in os.listdir(image_dir) if os.path.splitext(fname)[-1] == '.jpg']\n",
        "print(len(image_files))"
      ],
      "execution_count": 0,
      "outputs": []
    },
    {
      "cell_type": "code",
      "metadata": {
        "id": "AcJy62-KPzlF",
        "colab_type": "code",
        "colab": {}
      },
      "source": [
        "bbox_files = [fname for fname in os.listdir(bbox_dir) if os.path.splitext(fname)[-1] == '.xml']\n",
        "print(len(bbox_files))"
      ],
      "execution_count": 0,
      "outputs": []
    },
    {
      "cell_type": "code",
      "metadata": {
        "id": "kaBEFKgpPzlI",
        "colab_type": "code",
        "colab": {}
      },
      "source": [
        "seg_files = [fname for fname in os.listdir(seg_dir) if os.path.splitext(fname)[-1] == '.png']\n",
        "print(len(seg_files))"
      ],
      "execution_count": 0,
      "outputs": []
    },
    {
      "cell_type": "code",
      "metadata": {
        "id": "ybIeblX-PzlL",
        "colab_type": "code",
        "colab": {}
      },
      "source": [
        "image_files[:10]"
      ],
      "execution_count": 0,
      "outputs": []
    },
    {
      "cell_type": "code",
      "metadata": {
        "id": "-kwkbJ-zPzlN",
        "colab_type": "code",
        "colab": {}
      },
      "source": [
        "bbox_files[:10]"
      ],
      "execution_count": 0,
      "outputs": []
    },
    {
      "cell_type": "code",
      "metadata": {
        "id": "N8S5uXnJPzlR",
        "colab_type": "code",
        "colab": {}
      },
      "source": [
        "seg_files[:10]"
      ],
      "execution_count": 0,
      "outputs": []
    },
    {
      "cell_type": "code",
      "metadata": {
        "id": "wZs18R6SPzlT",
        "colab_type": "code",
        "colab": {}
      },
      "source": [
        "import random\n",
        "import numpy as np\n",
        "from PIL import Image\n",
        "import xml.etree.ElementTree as et\n",
        "import matplotlib.pyplot as plt\n",
        "from matplotlib.patches import Rectangle"
      ],
      "execution_count": 0,
      "outputs": []
    },
    {
      "cell_type": "code",
      "metadata": {
        "id": "-dH2AtQZPzlW",
        "colab_type": "code",
        "colab": {}
      },
      "source": [
        "rnd_idx = random.randint(1, len(image_files))\n",
        "fname = image_files[rnd_idx]\n",
        "fpath = os.path.join(image_dir, fname)\n",
        "image = Image.open(fpath)\n",
        "image = np.array(image)\n",
        "\n",
        "bbox_name = os.path.splitext(fname)[0]+'.xml'\n",
        "bbox_path = os.path.join(bbox_dir, bbox_name)\n",
        "tree = et.parse(bbox_path)\n",
        "\n",
        "width = float(tree.find('./size/width').text)\n",
        "height = float(tree.find('./size/height').text)\n",
        "xmin = float(tree.find('./object/bndbox/xmin').text)\n",
        "xmax = float(tree.find('./object/bndbox/xmax').text)\n",
        "ymin = float(tree.find('./object/bndbox/ymin').text)\n",
        "ymax = float(tree.find('./object/bndbox/ymax').text)\n",
        "\n",
        "rect_x = xmin\n",
        "rect_y = ymin\n",
        "rect_w = xmax-xmin\n",
        "rect_h = ymax-ymin\n",
        "\n",
        "rect = Rectangle((rect_x, rect_y), rect_w, rect_h, fill=False, color='red')\n",
        "plt.axes().add_patch(rect)\n",
        "plt.imshow(image)\n",
        "plt.show()"
      ],
      "execution_count": 0,
      "outputs": []
    },
    {
      "cell_type": "code",
      "metadata": {
        "id": "XEmuTkuIPzlY",
        "colab_type": "code",
        "colab": {}
      },
      "source": [
        "sname = os.path.splitext(fname)[0]+'.png'\n",
        "spath = os.path.join(seg_dir, sname)\n",
        "seg = Image.open(spath)\n",
        "seg = np.array(seg)\n",
        "\n",
        "plt.figure(figsize=(10,4))\n",
        "plt.subplot(1,2,1)\n",
        "plt.imshow(image)\n",
        "plt.subplot(1,2,2)\n",
        "plt.imshow(seg)\n",
        "plt.show()"
      ],
      "execution_count": 0,
      "outputs": []
    },
    {
      "cell_type": "code",
      "metadata": {
        "id": "ng-gx4PPPzlg",
        "colab_type": "code",
        "colab": {}
      },
      "source": [
        ""
      ],
      "execution_count": 0,
      "outputs": []
    }
  ]
}